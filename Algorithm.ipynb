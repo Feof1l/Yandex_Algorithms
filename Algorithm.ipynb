{
 "cells": [
  {
   "cell_type": "markdown",
   "id": "26ce1343",
   "metadata": {},
   "source": [
    "# Кондиционер"
   ]
  },
  {
   "cell_type": "markdown",
   "id": "27ed8d8a",
   "metadata": {},
   "source": [
    "В офисе, где работает программист Петр, установили кондиционер нового типа. Этот кондиционер отличается особой простотой в управлении. У кондиционера есть всего лишь два управляемых параметра: желаемая температура и режим работы.\n",
    "\n",
    "Кондиционер может работать в следующих четырех режимах:\n",
    "\n",
    "«freeze» — охлаждение. В этом режиме кондиционер может только уменьшать температуру. Если температура в комнате и так не больше желаемой, то он выключается.\n",
    "\n",
    "«heat» — нагрев. В этом режиме кондиционер может только увеличивать температуру. Если температура в комнате и так не меньше желаемой, то он выключается.\n",
    "\n",
    "«auto» — автоматический режим. В этом режиме кондиционер может как увеличивать, так и уменьшать температуру в комнате до желаемой.\n",
    "\n",
    "«fan» — вентиляция. В этом режиме кондиционер осуществляет только вентиляцию воздуха и не изменяет температуру в комнате.\n",
    "\n",
    "Кондиционер достаточно мощный, поэтому при настройке на правильный режим работы он за час доводит температуру в комнате до желаемой.\n",
    "\n",
    "Требуется написать программу, которая по заданной температуре в комнате troom, установленным на кондиционере желаемой температуре tcond и режиму работы определяет температуру, которая установится в комнате через час.\n",
    "\n",
    "Первая строка входного файла содержит два целых числа troom, и tcond, разделенных ровно одним пробелом (–50 ≤ troom ≤ 50, –50 ≤ tcond ≤ 50).\n",
    "\n",
    "Вторая строка содержит одно слово, записанное строчными буквами латинского алфавита — режим работы кондиционера."
   ]
  },
  {
   "cell_type": "code",
   "execution_count": 14,
   "id": "8ea9573d",
   "metadata": {},
   "outputs": [
    {
     "name": "stdout",
     "output_type": "stream",
     "text": [
      "10 -10\n",
      "freeze\n",
      "-10\n"
     ]
    }
   ],
   "source": [
    "t_room, t_cond = map(int, input().split())\n",
    "mode = str(input())\n",
    "if (mode == \"auto\"):\n",
    "    print(t_cond)\n",
    "elif (mode == \"fan\"):\n",
    "    print(t_room)\n",
    "elif (mode == \"freeze\"):\n",
    "    if(t_room <= t_cond):\n",
    "        print(t_room)\n",
    "    else:\n",
    "        print(t_cond)\n",
    "elif (mode == \"heat\"):\n",
    "    if (t_room >= t_cond):\n",
    "        print(t_room)\n",
    "    else:\n",
    "        print(t_cond)"
   ]
  },
  {
   "cell_type": "markdown",
   "id": "ea87d729",
   "metadata": {},
   "source": [
    "# Треугольник"
   ]
  },
  {
   "cell_type": "markdown",
   "id": "8814d1fb",
   "metadata": {},
   "source": [
    "Даны три натуральных числа. Возможно ли построить треугольник с такими сторонами. Если это возможно, выведите строку YES, иначе выведите строку NO.\n",
    "\n",
    "Треугольник — это три точки, не лежащие на одной прямой.\n",
    "Формат ввода\n",
    "Вводятся три натуральных числа.\n",
    "\n",
    "Формат вывода\n",
    "Выведите ответ на задачу."
   ]
  },
  {
   "cell_type": "code",
   "execution_count": 21,
   "id": "4e273b75",
   "metadata": {},
   "outputs": [
    {
     "name": "stdout",
     "output_type": "stream",
     "text": [
      "3\n",
      "4\n",
      "5\n",
      "YES\n"
     ]
    }
   ],
   "source": [
    "a = int(input())\n",
    "b = int(input())\n",
    "c = int(input())\n",
    "if (a + b > c) and (a + c > b) and (b + c > a):\n",
    "    print(\"YES\")\n",
    "else:\n",
    "    print(\"NO\")\n"
   ]
  },
  {
   "cell_type": "markdown",
   "id": "04fbae7e",
   "metadata": {},
   "source": [
    "# Телефонные номера"
   ]
  },
  {
   "cell_type": "markdown",
   "id": "83bd8faf",
   "metadata": {},
   "source": [
    "Телефонные номера в адресной книге мобильного телефона имеют один из следующих форматов: +7<код><номер>, 8<код><номер>, <номер>, где <номер> — это семь цифр, а <код> — это три цифры или три цифры в круглых скобках. Если код не указан, то считается, что он равен 495. Кроме того, в записи телефонного номера может стоять знак “-” между любыми двумя цифрами (см. пример). На данный момент в адресной книге телефона Васи записано всего три телефонных номера, и он хочет записать туда еще один. Но он не может понять, не записан ли уже такой номер в телефонной книге. Помогите ему! Два телефонных номера совпадают, если у них равны коды и равны номера. Например, +7(916)0123456 и 89160123456 — это один и тот же номер.\n",
    "\n",
    "Формат ввода\n",
    "В первой строке входных данных записан номер телефона, который Вася хочет добавить в адресную книгу своего телефона. В следующих трех строках записаны три номера телефонов, которые уже находятся в адресной книге телефона Васи. Гарантируется, что каждая из записей соответствует одному из трех приведенных в условии форматов.\n",
    "\n",
    "Формат вывода\n",
    "Для каждого телефонного номера в адресной книге выведите YES (заглавными буквами), если он совпадает с тем телефонным номером, который Вася хочет добавить в адресную книгу или NO (заглавными буквами) в противном случае."
   ]
  },
  {
   "cell_type": "code",
   "execution_count": 68,
   "id": "cc27b0b4",
   "metadata": {},
   "outputs": [
    {
     "name": "stdout",
     "output_type": "stream",
     "text": [
      "8(495)430-23-97\n",
      "+7-4-9-5-43-023-97\n",
      "4-3-0-2-3-9-7\n",
      "8-495-430\n",
      "YES\n",
      "YES\n",
      "NO\n"
     ]
    }
   ],
   "source": [
    "number = str(input())\n",
    "number_a = str(input())\n",
    "number_b = str(input())\n",
    "number_c = str(input())\n",
    "\n",
    "def mode_number(number):\n",
    "    dic = \"0123456789\"\n",
    "    number_buf = \"\"\n",
    "    for i in range(len(number)):\n",
    "        if (number[i] in dic !=0):\n",
    "            number_buf = number_buf + number[i]\n",
    "    if (len(number_buf) == 7):\n",
    "        number_buf = \"8495\" + number_buf\n",
    "    if (len(number_buf) == 10):\n",
    "        number_buf = \"8\" + number_buf   \n",
    "    if (number_buf[0] == \"7\"):\n",
    "        number_buf = number_buf[1:11]\n",
    "        number_buf = \"8\" + number_buf\n",
    "    return number_buf\n",
    "\n",
    "def prov(number,number_prov):\n",
    "    if (mode_number(number) == mode_number(number_prov)):\n",
    "        print(\"YES\")\n",
    "    else:\n",
    "        print(\"NO\")\n",
    "        \n",
    "prov(number,number_a)\n",
    "prov(number,number_b)\n",
    "prov(number,number_c)"
   ]
  },
  {
   "cell_type": "markdown",
   "id": "198959e1",
   "metadata": {},
   "source": [
    "# Уравнение с корнем"
   ]
  },
  {
   "attachments": {
    "image.png": {
     "image/png": "[encoded data removed]"
    }
   },
   "cell_type": "markdown",
   "id": "9a9313fb",
   "metadata": {},
   "source": [
    "Решите в целых числах уравнение:\n",
    "\n",
    "![image.png](attachment:image.png)\n",
    "\n",
    "a, b, c – данные целые числа: найдите все решения или сообщите, что решений в целых числах нет.\n",
    "\n",
    "Формат ввода\n",
    "Вводятся три числа a, b и c по одному в строке.\n",
    "\n",
    "Формат вывода\n",
    "Программа должна вывести все решения уравнения в порядке возрастания, либо NO SOLUTION (заглавными буквами), если решений нет. Если решений бесконечно много, вывести MANY SOLUTIONS."
   ]
  },
  {
   "cell_type": "code",
   "execution_count": 105,
   "id": "d825b7f1",
   "metadata": {},
   "outputs": [
    {
     "name": "stdout",
     "output_type": "stream",
     "text": [
      "1\n",
      "1\n",
      "1\n",
      "0\n"
     ]
    }
   ],
   "source": [
    "a = int(input())\n",
    "b = int(input())\n",
    "c = int(input())\n",
    "if ( c < 0 ):\n",
    "    print(\"NO SOLUTION\")\n",
    "elif ((b == c*c) and (a == 0)):\n",
    "    print(\"MANY SOLUTIONS\")\n",
    "elif (a != 0) and  ((c * c - b) / a == (c * c - b) // a):\n",
    "    print((c * c - b) // a)\n",
    "else:\n",
    "    print(\"NO SOLUTION\")\n"
   ]
  },
  {
   "cell_type": "markdown",
   "id": "35c6e958",
   "metadata": {},
   "source": [
    "#  Скорая помощь"
   ]
  },
  {
   "cell_type": "markdown",
   "id": "13518032",
   "metadata": {},
   "source": [
    "Бригада скорой помощи выехала по вызову в один из отделенных районов. К сожалению, когда диспетчер получил вызов, он успел записать только адрес дома и номер квартиры K1, а затем связь прервалась. Однако он вспомнил, что по этому же адресу дома некоторое время назад скорая помощь выезжала в квартиру K2, которая расположена в подъезда P2 на этаже N2. Известно, что в доме M этажей и количество квартир на каждой лестничной площадке одинаково. Напишите программу, которая вычилсяет номер подъезда P1 и номер этажа N1 квартиры K1.\n",
    "\n",
    "Формат ввода\n",
    "Во входном файле записаны пять положительных целых чисел K1, M, K2, P2, N2. Все числа не превосходят 106.\n",
    "\n",
    "Формат вывода\n",
    "Выведите два числа P1 и N1. Если входные данные не позволяют однозначно определить P1 или N1, вместо соответствующего числа напечатайте 0. Если входные данные противоречивы, напечатайте два числа –1 (минус один)."
   ]
  },
  {
   "cell_type": "code",
   "execution_count": 37,
   "id": "eed4b9c3",
   "metadata": {},
   "outputs": [
    {
     "name": "stdout",
     "output_type": "stream",
     "text": [
      "3 2 2 2 1\n",
      "2\n",
      "2\n",
      "0\n",
      "2\n",
      "1   2\n"
     ]
    }
   ],
   "source": [
    "import math\n",
    "k1, m, k2, p2, n2 = map(int, input().split())\n",
    "if (k1 == k2) or (n2 > m):\n",
    "    print(\"-1 -1\")\n",
    "else:\n",
    "    #if (k2 % n2 != 0 ):\n",
    "    #    n = k2 // n2 +1\n",
    "    #else :\n",
    "    #    n = k2 //n2\n",
    "    n = math.ceil(k2 / n2)\n",
    "    print(n)\n",
    "    print(n*n2)\n",
    "    print(n*(n2-1))\n",
    "    if (n *n2 < k2) or (k2 < n*(n2-1)):\n",
    "        print(\"-0\")\n",
    "    elif (n * n2 >= k2) and (k2 >= n* (n2-1)):\n",
    "        print(n)\n",
    "    else:\n",
    "        print(\"-1\")\n",
    "    \n",
    "    p1 = 0\n",
    "    s = 0\n",
    "    while (k1 > s):\n",
    "        s = s + m*n\n",
    "        p1 = p1 + 1\n",
    "        #print(s, \" \",p1)\n",
    "   # print(s)\n",
    "    if (k1 == s):\n",
    "        p1 = 0\n",
    "    s = s - m*n\n",
    "    n1 = 0\n",
    "    while(k1 > s):\n",
    "        n1 = n1 +1\n",
    "        s = s + n\n",
    "    print(p1, \" \",n1)    \n",
    "    \n",
    "#Доделать исключения    \n"
   ]
  },
  {
   "cell_type": "markdown",
   "id": "377561f4",
   "metadata": {},
   "source": [
    "# Расстановка ноутбуков"
   ]
  },
  {
   "cell_type": "markdown",
   "id": "82bff3f9",
   "metadata": {},
   "source": [
    "В школе решили на один прямоугольный стол поставить два прямоугольных ноутбука. Ноутбуки нужно поставить так, чтобы их стороны были параллельны сторонам стола. Определите, какие размеры должен иметь стол, чтобы оба ноутбука на него поместились, и площадь стола была минимальна.\n",
    "\n",
    "Формат ввода\n",
    "Вводится четыре натуральных числа, первые два задают размеры одного ноутбука, а следующие два — размеры второго. Числа не превышают 1000.\n",
    "\n",
    "Формат вывода\n",
    "Выведите два числа — размеры стола. Если возможно несколько ответов, выведите любой из них (но только один)."
   ]
  },
  {
   "cell_type": "code",
   "execution_count": 50,
   "id": "f14e71f1",
   "metadata": {},
   "outputs": [
    {
     "name": "stdout",
     "output_type": "stream",
     "text": [
      "10 2 2 10\n",
      "40\n",
      "12 2\n"
     ]
    }
   ],
   "source": [
    "a1,b1,a2,b2 = map(int, input().split())\n",
    "s = a1 * b1 + a2* b2\n",
    "print(s)\n",
    "if (a1 > a2):\n",
    "    a3 = a1\n",
    "else:\n",
    "    a3 = a2\n",
    "print(max(a1,a2),b1 + b2))\n",
    "\n",
    "    \n",
    "#print(a1 + a2, b3) в корне неверно"
   ]
  },
  {
   "cell_type": "markdown",
   "id": "5666f247",
   "metadata": {},
   "source": [
    "# Детали\n"
   ]
  },
  {
   "cell_type": "markdown",
   "id": "8f6e25de",
   "metadata": {},
   "source": [
    "Имеется N кг металлического сплава. Из него изготавливают заготовки массой K кг каждая. После этого из каждой заготовки вытачиваются детали массой M кг каждая (из каждой заготовки вытачивают максимально возможное количество деталей). Если от заготовок после этого что-то остается, то этот материал возвращают к началу производственного цикла и сплавляют с тем, что осталось при изготовлении заготовок. Если того сплава, который получился, достаточно для изготовления хотя бы одной заготовки, то из него снова изготавливают заготовки, из них – детали и т.д. Напишите программу, которая вычислит, какое количество деталей может быть получено по этой технологии из имеющихся исходно N кг сплава.\n",
    "Формат ввода\n",
    "Вводятся N, K, M. Все числа натуральные и не превосходят 200.\n",
    "\n",
    "Формат вывода\n",
    "Выведите одно число — количество деталей, которое может получиться по такой технологии."
   ]
  },
  {
   "cell_type": "code",
   "execution_count": 2,
   "id": "4bedd5fc",
   "metadata": {},
   "outputs": [
    {
     "name": "stdout",
     "output_type": "stream",
     "text": [
      "1 2 3\n",
      "0\n"
     ]
    }
   ],
   "source": [
    "n,k,m = map(int, input().split())\n",
    "d = 0\n",
    "while (n // k > 0):\n",
    "    n_k = n // k\n",
    "    n = n % k\n",
    "    while (n_k > 0):\n",
    "        d = d + k // m\n",
    "        n_k = n_k - 1\n",
    "        n = n + k%m\n",
    "print(d)\n"
   ]
  },
  {
   "cell_type": "code",
   "execution_count": 4,
   "id": "e69d9951",
   "metadata": {},
   "outputs": [
    {
     "name": "stdout",
     "output_type": "stream",
     "text": [
      "1 2 3\n",
      "0\n"
     ]
    }
   ],
   "source": [
    "\n",
    "n,k,m = map(int, input().split())\n",
    "d = 0\n",
    "temp_1,temp_2 = k // m, k%m\n",
    "#temp_2 = k%m\n",
    "while (n // k > 0):\n",
    "    d = d + temp_1*(n // k)\n",
    "    n = n % k + temp_2 *(n // k)\n",
    "print(d)\n",
    "#RunTimeError"
   ]
  },
  {
   "cell_type": "code",
   "execution_count": null,
   "id": "1f75cc7d",
   "metadata": {},
   "outputs": [],
   "source": []
  }
 ],
 "metadata": {
  "kernelspec": {
   "display_name": "Python 3 (ipykernel)",
   "language": "python",
   "name": "python3"
  },
  "language_info": {
   "codemirror_mode": {
    "name": "ipython",
    "version": 3
   },
   "file_extension": ".py",
   "mimetype": "text/x-python",
   "name": "python",
   "nbconvert_exporter": "python",
   "pygments_lexer": "ipython3",
   "version": "3.9.7"
  }
 },
 "nbformat": 4,
 "nbformat_minor": 5
}
